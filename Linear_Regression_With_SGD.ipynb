{
  "nbformat": 4,
  "nbformat_minor": 0,
  "metadata": {
    "colab": {
      "provenance": [],
      "authorship_tag": "ABX9TyNCNLUt0fd2Xi0oPRYO9db8",
      "include_colab_link": true
    },
    "kernelspec": {
      "name": "python3",
      "display_name": "Python 3"
    },
    "language_info": {
      "name": "python"
    }
  },
  "cells": [
    {
      "cell_type": "markdown",
      "metadata": {
        "id": "view-in-github",
        "colab_type": "text"
      },
      "source": [
        "<a href=\"https://colab.research.google.com/github/kapilchaudhary-kc/Deep_Learning_Pytorch/blob/main/Linear_Regression_With_SGD.ipynb\" target=\"_parent\"><img src=\"https://colab.research.google.com/assets/colab-badge.svg\" alt=\"Open In Colab\"/></a>"
      ]
    },
    {
      "cell_type": "code",
      "execution_count": 77,
      "metadata": {
        "id": "5xQY3V-Olkot"
      },
      "outputs": [],
      "source": [
        "import torch"
      ]
    },
    {
      "cell_type": "markdown",
      "source": [
        "###Generate Synthetic Data"
      ],
      "metadata": {
        "id": "ndrJpzEomJIb"
      }
    },
    {
      "cell_type": "code",
      "source": [
        "def synthetic_data(w,b,num_examples):\n",
        "  X=torch.normal(0,1,(num_examples,len(w)))\n",
        "  y=torch.matmul(X,w)+b\n",
        "  y+=torch.normal(0,0.01,y.shape)\n",
        "  return X,y.reshape((-1,1))"
      ],
      "metadata": {
        "id": "FxoX5VifmG1S"
      },
      "execution_count": 78,
      "outputs": []
    },
    {
      "cell_type": "markdown",
      "source": [
        "###Reading The Dataset"
      ],
      "metadata": {
        "id": "gG3OhsIGqY4k"
      }
    },
    {
      "cell_type": "code",
      "source": [
        "def data_iter(batch_size,features,labels):\n",
        "  num_examples=len(features)\n",
        "  indices=list(range(num_examples))\n",
        "  random.shuffle(indices)\n",
        "  for i in range(0,num_examples,batch_size):\n",
        "    batch_indices=torch.tensor(\n",
        "        indices[i:min(i+batch_size,num_examples)])\n",
        "    yield features[batch_indices],labels[batch_indices]"
      ],
      "metadata": {
        "id": "x9I-iWqvoESE"
      },
      "execution_count": 79,
      "outputs": []
    },
    {
      "cell_type": "markdown",
      "source": [
        "###Defining The Model"
      ],
      "metadata": {
        "id": "mySCl8ldxjzk"
      }
    },
    {
      "cell_type": "code",
      "source": [
        "def linreg(X,w,b):\n",
        "  return torch.matmul(X,w)+b"
      ],
      "metadata": {
        "id": "dq-QNJ6zwli0"
      },
      "execution_count": 80,
      "outputs": []
    },
    {
      "cell_type": "markdown",
      "source": [
        "###Defining The Loss Function"
      ],
      "metadata": {
        "id": "6hSWuPIRxvAf"
      }
    },
    {
      "cell_type": "code",
      "source": [
        "def squared_loss(y_hat,y):\n",
        "  return((y_hat-y.reshape(y_hat.shape))**2)/2"
      ],
      "metadata": {
        "id": "sEIRc8hzxtNk"
      },
      "execution_count": 81,
      "outputs": []
    },
    {
      "cell_type": "markdown",
      "source": [
        "###Defining The Optimization Algorithm"
      ],
      "metadata": {
        "id": "imat5Dl-x_Fo"
      }
    },
    {
      "cell_type": "code",
      "source": [
        "def sgd(params,lr,batch_size):\n",
        "  with torch.no_grad():\n",
        "    for param in params:\n",
        "      param-=lr*param.grad/batch_size\n",
        "      param.grad.zero_()"
      ],
      "metadata": {
        "id": "ufkrtNxPx97t"
      },
      "execution_count": 82,
      "outputs": []
    },
    {
      "cell_type": "markdown",
      "source": [
        "### Working on Data"
      ],
      "metadata": {
        "id": "c3ItczEVzz4V"
      }
    },
    {
      "cell_type": "code",
      "source": [
        "num_examples = 1000\n",
        "true_w = torch.tensor([2,-3.4])\n",
        "true_b = 4.2\n",
        "features , labels = synthetic_data(true_w, true_b, num_examples)"
      ],
      "metadata": {
        "id": "KXFRmSOsz31d"
      },
      "execution_count": 83,
      "outputs": []
    },
    {
      "cell_type": "markdown",
      "source": [
        "###Initializing Model Parameters"
      ],
      "metadata": {
        "id": "QswR9HB71K1F"
      }
    },
    {
      "cell_type": "code",
      "source": [
        "w = torch.normal(0, 0.01, size=(2, 1), requires_grad=True)\n",
        "b = torch.zeros(1, requires_grad=True)"
      ],
      "metadata": {
        "id": "37i5iHz31NvO"
      },
      "execution_count": 84,
      "outputs": []
    },
    {
      "cell_type": "markdown",
      "source": [
        "###Training"
      ],
      "metadata": {
        "id": "rVamRxz3ylf-"
      }
    },
    {
      "cell_type": "code",
      "source": [
        "lr = 0.03\n",
        "num_epochs = 3\n",
        "net = linreg\n",
        "loss = squared_loss\n",
        "batch_size=10"
      ],
      "metadata": {
        "id": "FChZytaqySZB"
      },
      "execution_count": 85,
      "outputs": []
    },
    {
      "cell_type": "code",
      "source": [
        "for epoch in range(num_epochs):\n",
        "  for X,y in data_iter(batch_size,features,labels):\n",
        "    l=loss(net(X,w,b),y)\n",
        "    l.sum().backward()\n",
        "    sgd([w,b],lr,batch_size)\n",
        "  with torch.no_grad():\n",
        "    train_1=loss(net(features,w,b),labels)\n",
        "    print(f'epoch {epoch+1},loss{float(train_1.mean()):f}')\n"
      ],
      "metadata": {
        "colab": {
          "base_uri": "https://localhost:8080/"
        },
        "id": "GZ3HKQEvyxip",
        "outputId": "04dabf66-ceb1-41de-dc62-579497733576"
      },
      "execution_count": 86,
      "outputs": [
        {
          "output_type": "stream",
          "name": "stdout",
          "text": [
            "epoch 1,loss0.042765\n",
            "epoch 2,loss0.000164\n",
            "epoch 3,loss0.000047\n"
          ]
        }
      ]
    },
    {
      "cell_type": "code",
      "source": [],
      "metadata": {
        "id": "95FdFr4y1Yzn"
      },
      "execution_count": 86,
      "outputs": []
    }
  ]
}